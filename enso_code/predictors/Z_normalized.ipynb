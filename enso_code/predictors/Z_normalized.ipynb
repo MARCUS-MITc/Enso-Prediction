{
 "cells": [
  {
   "cell_type": "code",
   "execution_count": 6,
   "id": "eb5db415",
   "metadata": {},
   "outputs": [],
   "source": [
    "import pandas as pd\n",
    "import numpy as np\n",
    "import tensorflow as tf\n",
    "from tensorflow import keras\n",
    "from keras.layers import Input, Dense\n",
    "from keras.models import Model\n",
    "from sklearn.preprocessing import normalize"
   ]
  },
  {
   "cell_type": "code",
   "execution_count": 51,
   "id": "4a0c0bf3",
   "metadata": {
    "scrolled": true
   },
   "outputs": [
    {
     "data": {
      "text/html": [
       "<div>\n",
       "<style scoped>\n",
       "    .dataframe tbody tr th:only-of-type {\n",
       "        vertical-align: middle;\n",
       "    }\n",
       "\n",
       "    .dataframe tbody tr th {\n",
       "        vertical-align: top;\n",
       "    }\n",
       "\n",
       "    .dataframe thead th {\n",
       "        text-align: right;\n",
       "    }\n",
       "</style>\n",
       "<table border=\"1\" class=\"dataframe\">\n",
       "  <thead>\n",
       "    <tr style=\"text-align: right;\">\n",
       "      <th></th>\n",
       "      <th>airT</th>\n",
       "      <th>hgt</th>\n",
       "      <th>slp</th>\n",
       "      <th>Uwind</th>\n",
       "      <th>Vwind</th>\n",
       "      <th>olr</th>\n",
       "      <th>sst</th>\n",
       "    </tr>\n",
       "  </thead>\n",
       "  <tbody>\n",
       "    <tr>\n",
       "      <th>0</th>\n",
       "      <td>-32.404984</td>\n",
       "      <td>-768.560791</td>\n",
       "      <td>1.621609</td>\n",
       "      <td>-1.952108</td>\n",
       "      <td>-0.871452</td>\n",
       "      <td>-47.445538</td>\n",
       "      <td>-0.973825</td>\n",
       "    </tr>\n",
       "    <tr>\n",
       "      <th>1</th>\n",
       "      <td>-31.890453</td>\n",
       "      <td>-771.096985</td>\n",
       "      <td>1.305570</td>\n",
       "      <td>-2.307280</td>\n",
       "      <td>0.155896</td>\n",
       "      <td>-46.907303</td>\n",
       "      <td>-0.974365</td>\n",
       "    </tr>\n",
       "    <tr>\n",
       "      <th>2</th>\n",
       "      <td>-32.320976</td>\n",
       "      <td>-775.395019</td>\n",
       "      <td>1.510948</td>\n",
       "      <td>-2.361962</td>\n",
       "      <td>0.872561</td>\n",
       "      <td>-46.690971</td>\n",
       "      <td>-0.974916</td>\n",
       "    </tr>\n",
       "    <tr>\n",
       "      <th>3</th>\n",
       "      <td>-32.411320</td>\n",
       "      <td>-779.455566</td>\n",
       "      <td>1.979502</td>\n",
       "      <td>-2.262750</td>\n",
       "      <td>1.767799</td>\n",
       "      <td>-47.460522</td>\n",
       "      <td>-0.975169</td>\n",
       "    </tr>\n",
       "    <tr>\n",
       "      <th>4</th>\n",
       "      <td>-33.016319</td>\n",
       "      <td>-781.542969</td>\n",
       "      <td>2.753553</td>\n",
       "      <td>-1.675639</td>\n",
       "      <td>2.574005</td>\n",
       "      <td>-48.169773</td>\n",
       "      <td>-0.975271</td>\n",
       "    </tr>\n",
       "    <tr>\n",
       "      <th>...</th>\n",
       "      <td>...</td>\n",
       "      <td>...</td>\n",
       "      <td>...</td>\n",
       "      <td>...</td>\n",
       "      <td>...</td>\n",
       "      <td>...</td>\n",
       "      <td>...</td>\n",
       "    </tr>\n",
       "    <tr>\n",
       "      <th>319</th>\n",
       "      <td>-11.877342</td>\n",
       "      <td>-577.608826</td>\n",
       "      <td>-15.868583</td>\n",
       "      <td>-0.982829</td>\n",
       "      <td>0.504825</td>\n",
       "      <td>-35.813309</td>\n",
       "      <td>NaN</td>\n",
       "    </tr>\n",
       "    <tr>\n",
       "      <th>320</th>\n",
       "      <td>-12.517138</td>\n",
       "      <td>-580.763367</td>\n",
       "      <td>-16.862509</td>\n",
       "      <td>-1.523418</td>\n",
       "      <td>0.658751</td>\n",
       "      <td>-27.960745</td>\n",
       "      <td>NaN</td>\n",
       "    </tr>\n",
       "    <tr>\n",
       "      <th>321</th>\n",
       "      <td>-7.067920</td>\n",
       "      <td>-583.211975</td>\n",
       "      <td>-16.822027</td>\n",
       "      <td>-2.153407</td>\n",
       "      <td>-0.357583</td>\n",
       "      <td>-28.176806</td>\n",
       "      <td>NaN</td>\n",
       "    </tr>\n",
       "    <tr>\n",
       "      <th>322</th>\n",
       "      <td>-6.312740</td>\n",
       "      <td>-584.704163</td>\n",
       "      <td>-15.592834</td>\n",
       "      <td>-2.110729</td>\n",
       "      <td>-1.700504</td>\n",
       "      <td>-31.524090</td>\n",
       "      <td>NaN</td>\n",
       "    </tr>\n",
       "    <tr>\n",
       "      <th>323</th>\n",
       "      <td>-7.275416</td>\n",
       "      <td>-584.904907</td>\n",
       "      <td>-13.663765</td>\n",
       "      <td>-1.352651</td>\n",
       "      <td>-2.704739</td>\n",
       "      <td>-37.533978</td>\n",
       "      <td>NaN</td>\n",
       "    </tr>\n",
       "  </tbody>\n",
       "</table>\n",
       "<p>324 rows × 7 columns</p>\n",
       "</div>"
      ],
      "text/plain": [
       "          airT         hgt        slp     Uwind     Vwind        olr       sst\n",
       "0   -32.404984 -768.560791   1.621609 -1.952108 -0.871452 -47.445538 -0.973825\n",
       "1   -31.890453 -771.096985   1.305570 -2.307280  0.155896 -46.907303 -0.974365\n",
       "2   -32.320976 -775.395019   1.510948 -2.361962  0.872561 -46.690971 -0.974916\n",
       "3   -32.411320 -779.455566   1.979502 -2.262750  1.767799 -47.460522 -0.975169\n",
       "4   -33.016319 -781.542969   2.753553 -1.675639  2.574005 -48.169773 -0.975271\n",
       "..         ...         ...        ...       ...       ...        ...       ...\n",
       "319 -11.877342 -577.608826 -15.868583 -0.982829  0.504825 -35.813309       NaN\n",
       "320 -12.517138 -580.763367 -16.862509 -1.523418  0.658751 -27.960745       NaN\n",
       "321  -7.067920 -583.211975 -16.822027 -2.153407 -0.357583 -28.176806       NaN\n",
       "322  -6.312740 -584.704163 -15.592834 -2.110729 -1.700504 -31.524090       NaN\n",
       "323  -7.275416 -584.904907 -13.663765 -1.352651 -2.704739 -37.533978       NaN\n",
       "\n",
       "[324 rows x 7 columns]"
      ]
     },
     "execution_count": 51,
     "metadata": {},
     "output_type": "execute_result"
    }
   ],
   "source": [
    "df = pd.read_csv(\"project 1.csv\")\n",
    "df"
   ]
  },
  {
   "cell_type": "code",
   "execution_count": 57,
   "id": "3d281c19",
   "metadata": {},
   "outputs": [
    {
     "data": {
      "text/plain": [
       "0     -0.973825\n",
       "1     -0.974365\n",
       "2     -0.974916\n",
       "3     -0.975169\n",
       "4     -0.975271\n",
       "         ...   \n",
       "319         NaN\n",
       "320         NaN\n",
       "321         NaN\n",
       "322         NaN\n",
       "323         NaN\n",
       "Name: sst, Length: 324, dtype: float64"
      ]
     },
     "execution_count": 57,
     "metadata": {},
     "output_type": "execute_result"
    }
   ],
   "source": [
    "df1 = df['sst']\n",
    "df1"
   ]
  },
  {
   "cell_type": "code",
   "execution_count": 58,
   "id": "4b03303e",
   "metadata": {},
   "outputs": [
    {
     "data": {
      "text/plain": [
       "0     -0.973825\n",
       "1     -0.974365\n",
       "2     -0.974916\n",
       "3     -0.975169\n",
       "4     -0.975271\n",
       "         ...   \n",
       "127    1.750946\n",
       "128    1.718499\n",
       "129    1.661920\n",
       "130    1.580395\n",
       "131    1.514779\n",
       "Name: sst, Length: 132, dtype: float64"
      ]
     },
     "execution_count": 58,
     "metadata": {},
     "output_type": "execute_result"
    }
   ],
   "source": [
    "df2= df1.dropna().reset_index(drop=True)\n",
    "df2"
   ]
  },
  {
   "cell_type": "code",
   "execution_count": 60,
   "id": "8b3ccf2c",
   "metadata": {
    "scrolled": true
   },
   "outputs": [
    {
     "data": {
      "text/plain": [
       "array([-0.97382492, -0.9743647 , -0.97491556, -0.97516948, -0.97527063,\n",
       "       -0.9753651 , -0.97533643, -0.9753629 , -0.97537178, -0.97537285,\n",
       "       -0.97537065, -0.97536433, -0.67272669, -0.8085897 , -0.86937505,\n",
       "       -0.96777219, -0.93935114, -0.92002577, -0.97536665, -0.97533268,\n",
       "       -0.97536701, -0.97536808, -0.9753744 , -0.97142476, -0.3641384 ,\n",
       "       -0.66355604, -0.74829125, -0.87085015, -0.81745541, -0.81745541,\n",
       "       -0.83718628, -0.8371793 , -0.88057655, -0.93415773, -0.8569262 ,\n",
       "       -0.88843685, -0.42184678, -0.7056123 , -0.81745541, -0.81745541,\n",
       "       -0.81745541, -0.81745541, -0.81745541, -0.79201227, -0.74641764,\n",
       "       -0.7047056 , -0.61824131, -0.7415306 , -0.52608293, -0.79223418,\n",
       "       -0.81745541, -0.81745541, -0.81745541, -0.81745541, -0.82029706,\n",
       "       -0.71206063, -0.50992155, -0.38500688, -0.28957784, -0.34195387,\n",
       "       -0.3563714 , -0.48895377, -0.57575929, -0.81745541, -0.81745541,\n",
       "       -0.81745541, -0.71013123, -0.36196476, -0.17357695, -0.09305207,\n",
       "        0.00620225,  0.05022698,  0.22498238,  0.22686157, -0.64721715,\n",
       "       -0.81745541, -0.81745541, -0.81745541,  0.14809579,  0.56665373,\n",
       "        0.63308007,  0.53881866,  0.56601614,  0.49205375, -0.73227888,\n",
       "       -0.39744216, -0.44774911, -0.65143204, -0.81745541, -0.81745541,\n",
       "        0.90807265,  1.19100773,  1.15214324,  1.08781838,  1.06758845,\n",
       "        0.87207133, -0.81745541, -0.58316451, -0.46310672,  0.61510456,\n",
       "       -0.00459332,  0.17379257,  1.37940264,  1.554281  ,  1.50653923,\n",
       "        1.43156493,  1.32280123,  1.17234254, -0.81745541, -0.81745541,\n",
       "        0.69405425,  1.24440718,  1.43531287,  0.7337805 ,  1.65299332,\n",
       "        1.67463398,  1.62450433,  1.5646261 ,  1.49007666,  1.45420921,\n",
       "        0.17828144, -0.81745541,  0.56714261,  1.67043209,  1.61363185,\n",
       "        1.08516562,  1.65835655,  1.75094593,  1.71849871,  1.66192007,\n",
       "        1.58039534,  1.51477861])"
      ]
     },
     "execution_count": 60,
     "metadata": {},
     "output_type": "execute_result"
    }
   ],
   "source": [
    "#input_data = df[['airT','hgt']].values\n",
    "input_data = df2.values\n",
    "input_data"
   ]
  },
  {
   "cell_type": "code",
   "execution_count": 56,
   "id": "cf518d8c",
   "metadata": {},
   "outputs": [
    {
     "data": {
      "text/plain": [
       "0     -0.973825\n",
       "1     -0.974365\n",
       "2     -0.974916\n",
       "3     -0.975169\n",
       "4     -0.975271\n",
       "         ...   \n",
       "127    1.750946\n",
       "128    1.718499\n",
       "129    1.661920\n",
       "130    1.580395\n",
       "131    1.514779\n",
       "Name: sst, Length: 132, dtype: float64"
      ]
     },
     "execution_count": 56,
     "metadata": {},
     "output_type": "execute_result"
    }
   ],
   "source": [
    "# nan_indices = np.isnan(input_data)\n",
    "# mean_value = np.nanmean(input_data)\n",
    "# input_data[nan_indices] = mean_value\n"
   ]
  },
  {
   "cell_type": "code",
   "execution_count": 61,
   "id": "51094429",
   "metadata": {
    "scrolled": true
   },
   "outputs": [
    {
     "data": {
      "text/plain": [
       "array([[-0.09023085, -0.09028086, -0.0903319 , -0.09035543, -0.0903648 ,\n",
       "        -0.09037355, -0.0903709 , -0.09037335, -0.09037417, -0.09037427,\n",
       "        -0.09037407, -0.09037348, -0.06233225, -0.07492079, -0.08055293,\n",
       "        -0.08967002, -0.08703664, -0.08524602, -0.0903737 , -0.09037055,\n",
       "        -0.09037373, -0.09037383, -0.09037441, -0.09000846, -0.03373965,\n",
       "        -0.06148253, -0.06933377, -0.0806896 , -0.07574225, -0.07574225,\n",
       "        -0.07757044, -0.07756979, -0.08159081, -0.08655544, -0.07939946,\n",
       "        -0.08231912, -0.03908669, -0.0653793 , -0.07574225, -0.07574225,\n",
       "        -0.07574225, -0.07574225, -0.07574225, -0.07338479, -0.06916017,\n",
       "        -0.06529529, -0.05728385, -0.06870735, -0.04874481, -0.07340535,\n",
       "        -0.07574225, -0.07574225, -0.07574225, -0.07574225, -0.07600555,\n",
       "        -0.06597678, -0.04724736, -0.03567325, -0.02683116, -0.03168412,\n",
       "        -0.03301999, -0.04530456, -0.05334763, -0.07574225, -0.07574225,\n",
       "        -0.07574225, -0.06579801, -0.03353825, -0.01608297, -0.00862184,\n",
       "         0.00057468,  0.00465384,  0.020846  ,  0.02102011, -0.05996864,\n",
       "        -0.07574225, -0.07574225, -0.07574225,  0.01372198,  0.05250394,\n",
       "         0.05865875,  0.04992485,  0.05244486,  0.04559179, -0.06785013,\n",
       "        -0.03682545, -0.0414867 , -0.06035917, -0.07574225, -0.07574225,\n",
       "         0.0841385 ,  0.11035416,  0.10675313,  0.10079304,  0.09891861,\n",
       "         0.08080275, -0.07574225, -0.05403377, -0.04290968,  0.05699321,\n",
       "        -0.0004256 ,  0.01610295,  0.12781011,  0.14401366,  0.13959009,\n",
       "         0.13264326,  0.12256564,  0.10862472, -0.07574225, -0.07574225,\n",
       "         0.06430838,  0.11530195,  0.13299053,  0.06798926,  0.15315996,\n",
       "         0.1551651 ,  0.15052028,  0.1449722 ,  0.13806473,  0.13474139,\n",
       "         0.01651887, -0.07574225,  0.05254924,  0.15477577,  0.14951288,\n",
       "         0.10054724,  0.1536569 ,  0.16223587,  0.15922944,  0.15398708,\n",
       "         0.14643331,  0.14035352]])"
      ]
     },
     "execution_count": 61,
     "metadata": {},
     "output_type": "execute_result"
    }
   ],
   "source": [
    "normalized_input_data = normalize(input_data.reshape(1, -1))\n",
    "normalized_input_data"
   ]
  },
  {
   "cell_type": "code",
   "execution_count": 62,
   "id": "5b154ea6",
   "metadata": {},
   "outputs": [
    {
     "data": {
      "text/plain": [
       "(132,)"
      ]
     },
     "execution_count": 62,
     "metadata": {},
     "output_type": "execute_result"
    }
   ],
   "source": [
    "input_data.shape"
   ]
  },
  {
   "cell_type": "code",
   "execution_count": 63,
   "id": "89a5dea6",
   "metadata": {},
   "outputs": [
    {
     "data": {
      "text/plain": [
       "(1, 132)"
      ]
     },
     "execution_count": 63,
     "metadata": {},
     "output_type": "execute_result"
    }
   ],
   "source": [
    "normalized_input_data.shape"
   ]
  },
  {
   "cell_type": "code",
   "execution_count": 42,
   "id": "72e520cb",
   "metadata": {},
   "outputs": [],
   "source": [
    "#normalized_input_data = np.reshape(normalized_input_data)"
   ]
  },
  {
   "cell_type": "code",
   "execution_count": 43,
   "id": "9ee9281d",
   "metadata": {},
   "outputs": [],
   "source": [
    "#input_data_ = np.reshape(input_data, (1, 324))"
   ]
  },
  {
   "cell_type": "code",
   "execution_count": 64,
   "id": "676842e1",
   "metadata": {},
   "outputs": [
    {
     "data": {
      "text/plain": [
       "1.750945926"
      ]
     },
     "execution_count": 64,
     "metadata": {},
     "output_type": "execute_result"
    }
   ],
   "source": [
    "np.max(np.abs(input_data))"
   ]
  },
  {
   "cell_type": "code",
   "execution_count": 69,
   "id": "318ac80b",
   "metadata": {},
   "outputs": [],
   "source": [
    "input_dim = 132\n",
    "hidden_dim = 40\n",
    "input_layer = Input(shape = (input_dim,))\n",
    "hidden_layer = Dense(hidden_dim,activation='tanh')(input_layer)\n",
    "output_layer = Dense(input_dim,activation='linear')(hidden_layer)"
   ]
  },
  {
   "cell_type": "code",
   "execution_count": 70,
   "id": "3e14f474",
   "metadata": {},
   "outputs": [],
   "source": [
    "autoencoder = Model(inputs=input_layer, outputs=output_layer)"
   ]
  },
  {
   "cell_type": "code",
   "execution_count": 71,
   "id": "7f739ff7",
   "metadata": {},
   "outputs": [],
   "source": [
    "autoencoder.compile(optimizer='adam', loss='mean_squared_error')"
   ]
  },
  {
   "cell_type": "code",
   "execution_count": 72,
   "id": "28a9fb1a",
   "metadata": {},
   "outputs": [
    {
     "name": "stdout",
     "output_type": "stream",
     "text": [
      "Epoch 1/10\n",
      "1/1 [==============================] - 0s 353ms/step - loss: 0.0104\n",
      "Epoch 2/10\n",
      "1/1 [==============================] - 0s 9ms/step - loss: 0.0090\n",
      "Epoch 3/10\n",
      "1/1 [==============================] - 0s 20ms/step - loss: 0.0078\n",
      "Epoch 4/10\n",
      "1/1 [==============================] - 0s 13ms/step - loss: 0.0068\n",
      "Epoch 5/10\n",
      "1/1 [==============================] - 0s 13ms/step - loss: 0.0060\n",
      "Epoch 6/10\n",
      "1/1 [==============================] - 0s 14ms/step - loss: 0.0053\n",
      "Epoch 7/10\n",
      "1/1 [==============================] - 0s 20ms/step - loss: 0.0048\n",
      "Epoch 8/10\n",
      "1/1 [==============================] - 0s 20ms/step - loss: 0.0043\n",
      "Epoch 9/10\n",
      "1/1 [==============================] - 0s 12ms/step - loss: 0.0039\n",
      "Epoch 10/10\n",
      "1/1 [==============================] - 0s 12ms/step - loss: 0.0035\n"
     ]
    },
    {
     "data": {
      "text/plain": [
       "<keras.callbacks.History at 0x1770eb42df0>"
      ]
     },
     "execution_count": 72,
     "metadata": {},
     "output_type": "execute_result"
    }
   ],
   "source": [
    "autoencoder.fit(normalized_input_data, normalized_input_data, epochs=10, batch_size=32)"
   ]
  },
  {
   "cell_type": "code",
   "execution_count": 73,
   "id": "da945617",
   "metadata": {},
   "outputs": [
    {
     "name": "stdout",
     "output_type": "stream",
     "text": [
      "1/1 [==============================] - 0s 57ms/step\n"
     ]
    }
   ],
   "source": [
    "encoded_data = autoencoder.predict(normalized_input_data)"
   ]
  },
  {
   "cell_type": "code",
   "execution_count": 74,
   "id": "56b156e9",
   "metadata": {},
   "outputs": [
    {
     "name": "stdout",
     "output_type": "stream",
     "text": [
      "1/1 [==============================] - 0s 28ms/step\n"
     ]
    }
   ],
   "source": [
    "decoded_data = autoencoder.predict(encoded_data)"
   ]
  },
  {
   "cell_type": "code",
   "execution_count": 75,
   "id": "1b6408e0",
   "metadata": {
    "scrolled": true
   },
   "outputs": [
    {
     "name": "stdout",
     "output_type": "stream",
     "text": [
      "Original Data:\n",
      "[-0.97382492 -0.9743647  -0.97491556 -0.97516948 -0.97527063 -0.9753651\n",
      " -0.97533643 -0.9753629  -0.97537178 -0.97537285 -0.97537065 -0.97536433\n",
      " -0.67272669 -0.8085897  -0.86937505 -0.96777219 -0.93935114 -0.92002577\n",
      " -0.97536665 -0.97533268 -0.97536701 -0.97536808 -0.9753744  -0.97142476\n",
      " -0.3641384  -0.66355604 -0.74829125 -0.87085015 -0.81745541 -0.81745541\n",
      " -0.83718628 -0.8371793  -0.88057655 -0.93415773 -0.8569262  -0.88843685\n",
      " -0.42184678 -0.7056123  -0.81745541 -0.81745541 -0.81745541 -0.81745541\n",
      " -0.81745541 -0.79201227 -0.74641764 -0.7047056  -0.61824131 -0.7415306\n",
      " -0.52608293 -0.79223418 -0.81745541 -0.81745541 -0.81745541 -0.81745541\n",
      " -0.82029706 -0.71206063 -0.50992155 -0.38500688 -0.28957784 -0.34195387\n",
      " -0.3563714  -0.48895377 -0.57575929 -0.81745541 -0.81745541 -0.81745541\n",
      " -0.71013123 -0.36196476 -0.17357695 -0.09305207  0.00620225  0.05022698\n",
      "  0.22498238  0.22686157 -0.64721715 -0.81745541 -0.81745541 -0.81745541\n",
      "  0.14809579  0.56665373  0.63308007  0.53881866  0.56601614  0.49205375\n",
      " -0.73227888 -0.39744216 -0.44774911 -0.65143204 -0.81745541 -0.81745541\n",
      "  0.90807265  1.19100773  1.15214324  1.08781838  1.06758845  0.87207133\n",
      " -0.81745541 -0.58316451 -0.46310672  0.61510456 -0.00459332  0.17379257\n",
      "  1.37940264  1.554281    1.50653923  1.43156493  1.32280123  1.17234254\n",
      " -0.81745541 -0.81745541  0.69405425  1.24440718  1.43531287  0.7337805\n",
      "  1.65299332  1.67463398  1.62450433  1.5646261   1.49007666  1.45420921\n",
      "  0.17828144 -0.81745541  0.56714261  1.67043209  1.61363185  1.08516562\n",
      "  1.65835655  1.75094593  1.71849871  1.66192007  1.58039534  1.51477861]\n",
      "Decoded Data:\n",
      "[[-0.04703576 -0.00075386  0.03877656 -0.04369741 -0.00367042 -0.05934591\n",
      "  -0.01975653 -0.05505507 -0.05879652 -0.02062955 -0.07378709 -0.07177313\n",
      "   0.02099546 -0.05883317 -0.0615111   0.04227171 -0.04585509 -0.02590427\n",
      "  -0.04111457 -0.00358774  0.0221743   0.0038463   0.01471682  0.00594121\n",
      "   0.0020906   0.0223618  -0.01088659 -0.05787595 -0.01050352  0.00630858\n",
      "   0.007918   -0.03492107  0.01709262 -0.07039313 -0.0265751  -0.04064347\n",
      "  -0.02234538 -0.02176405  0.00165229 -0.07464007  0.00545348 -0.0380817\n",
      "  -0.09641821 -0.08860179 -0.03715296 -0.02990317 -0.02724531 -0.0262903\n",
      "  -0.01158675  0.00530545  0.01515709 -0.0534228  -0.00583252  0.00723394\n",
      "  -0.07265127  0.00584959 -0.01985989 -0.03158179 -0.0023804   0.00683244\n",
      "   0.04604194 -0.01772319 -0.02879917 -0.04754628 -0.04254359 -0.06073882\n",
      "  -0.03801039 -0.01590993 -0.01592759 -0.01834407  0.02225182 -0.01948809\n",
      "  -0.01820588  0.00105914 -0.08311849 -0.02631418 -0.06553548 -0.04288206\n",
      "  -0.02182516 -0.06037246  0.06592752 -0.00400201  0.02323339 -0.04480868\n",
      "  -0.0579455  -0.02567936  0.0014823  -0.02336297 -0.04532202 -0.0242212\n",
      "   0.04279262  0.05731072  0.08161417  0.05146356  0.05477383  0.07876702\n",
      "  -0.04222636  0.03502812 -0.02826651 -0.0212445  -0.03640671  0.01140085\n",
      "   0.0207414   0.01049405 -0.00906981  0.0393746   0.05807159 -0.02382883\n",
      "  -0.02313364 -0.07336652 -0.00743554  0.01871802  0.02741443  0.00678434\n",
      "   0.04758825  0.04880873  0.09437214  0.09554113  0.05360706  0.02837263\n",
      "   0.01631381 -0.05054896 -0.03555473  0.03281997  0.07206142 -0.02041992\n",
      "   0.01979177  0.10172048  0.02388706  0.06286775  0.04315155  0.00259327]]\n"
     ]
    }
   ],
   "source": [
    "print('Original Data:')\n",
    "print(input_data)\n",
    "print('Decoded Data:')\n",
    "print(decoded_data)"
   ]
  },
  {
   "cell_type": "code",
   "execution_count": 78,
   "id": "05827d5d",
   "metadata": {},
   "outputs": [
    {
     "name": "stdout",
     "output_type": "stream",
     "text": [
      "Potential predictors:\n",
      "[0.3845649388336529, 0.5167435400043403, 0.0638948568320114, -0.5153893785841602, -1.055301862399756, -0.10772278227394844, 0.3989356314482897, -0.48168320773750456, -0.187711997527239, -0.6967700626913551, -0.05231224745561838, -0.6752243341118167, -0.3456914955164907, -0.5294044518524537, -0.015085883692231794, -0.3805185911786958, 0.09111662498278472]\n"
     ]
    }
   ],
   "source": [
    "weights = autoencoder.get_weights()[0]  # Get the weights of the first layer (between input and hidden)\n",
    "\n",
    "weight_mean = np.mean(weights)\n",
    "weight_std = np.std(weights)\n",
    "\n",
    "threshold = weight_mean +  1.4* weight_std\n",
    "\n",
    "potential_predictors = []\n",
    "for i in range(hidden_dim):  # Iterate over the hidden nodes\n",
    "    input_nodes = np.where(weights[:, i] > threshold)[0]  # Find the input nodes with weights above the threshold\n",
    "    if len(input_nodes) >= input_dim * 0.1: # Check if at least 10% of input nodes participate\n",
    "        predictor = np.sum(weights[input_nodes, i] * input_data[input_nodes])\n",
    "        potential_predictors.append(predictor)\n",
    "\n",
    "print(\"Potential predictors:\")\n",
    "print(potential_predictors)"
   ]
  },
  {
   "cell_type": "code",
   "execution_count": 79,
   "id": "d0f0e1d3",
   "metadata": {},
   "outputs": [],
   "source": [
    "pp = potential_predictors"
   ]
  },
  {
   "cell_type": "code",
   "execution_count": 80,
   "id": "5ac44e50",
   "metadata": {},
   "outputs": [
    {
     "data": {
      "text/plain": [
       "array([[-0.17458253, -0.0497747 , -0.16327275, ..., -0.15198343,\n",
       "         0.10619394, -0.10737733],\n",
       "       [ 0.0414169 ,  0.12503313, -0.04598483, ..., -0.09822471,\n",
       "         0.18232748, -0.01687104],\n",
       "       [ 0.12835164, -0.0626469 , -0.03892668, ..., -0.04033702,\n",
       "         0.09865642, -0.08754932],\n",
       "       ...,\n",
       "       [-0.05361469,  0.05118758,  0.17645709, ...,  0.02252793,\n",
       "        -0.100949  , -0.00836534],\n",
       "       [-0.10658587, -0.06659551,  0.12365384, ...,  0.15609777,\n",
       "        -0.02188809, -0.07563095],\n",
       "       [ 0.07343274,  0.17327942, -0.03437449, ...,  0.11174673,\n",
       "         0.06821181,  0.08758762]], dtype=float32)"
      ]
     },
     "execution_count": 80,
     "metadata": {},
     "output_type": "execute_result"
    }
   ],
   "source": [
    "weights"
   ]
  },
  {
   "cell_type": "code",
   "execution_count": 81,
   "id": "5bf5298e",
   "metadata": {},
   "outputs": [
    {
     "data": {
      "text/plain": [
       "array([  5,   9,  18,  22,  57,  59,  75,  77,  81,  87, 104, 105, 110,\n",
       "       111, 120, 128], dtype=int64)"
      ]
     },
     "execution_count": 81,
     "metadata": {},
     "output_type": "execute_result"
    }
   ],
   "source": [
    "input_nodes"
   ]
  },
  {
   "cell_type": "code",
   "execution_count": 82,
   "id": "3e556b52",
   "metadata": {},
   "outputs": [
    {
     "data": {
      "text/plain": [
       "0.19452395"
      ]
     },
     "execution_count": 82,
     "metadata": {},
     "output_type": "execute_result"
    }
   ],
   "source": [
    "weights.max()"
   ]
  },
  {
   "cell_type": "code",
   "execution_count": 83,
   "id": "e7baff75",
   "metadata": {},
   "outputs": [],
   "source": [
    "weight_mean = np.mean(weights)\n",
    "weight_std = np.std(weights)"
   ]
  },
  {
   "cell_type": "code",
   "execution_count": 84,
   "id": "a102ad15",
   "metadata": {},
   "outputs": [
    {
     "data": {
      "text/plain": [
       "-0.0026151484"
      ]
     },
     "execution_count": 84,
     "metadata": {},
     "output_type": "execute_result"
    }
   ],
   "source": [
    "weight_mean"
   ]
  },
  {
   "cell_type": "code",
   "execution_count": 85,
   "id": "013e9b6e",
   "metadata": {},
   "outputs": [
    {
     "data": {
      "text/plain": [
       "0.10784538"
      ]
     },
     "execution_count": 85,
     "metadata": {},
     "output_type": "execute_result"
    }
   ],
   "source": [
    "weight_std"
   ]
  },
  {
   "cell_type": "code",
   "execution_count": 86,
   "id": "660c608c",
   "metadata": {},
   "outputs": [
    {
     "data": {
      "text/plain": [
       "0.21307561337016523"
      ]
     },
     "execution_count": 86,
     "metadata": {},
     "output_type": "execute_result"
    }
   ],
   "source": [
    "threshold =   2 * weight_std+weight_mean\n",
    "threshold"
   ]
  },
  {
   "cell_type": "code",
   "execution_count": 87,
   "id": "35db206e",
   "metadata": {},
   "outputs": [],
   "source": [
    "import csv\n",
    "\n",
    "csv_file_path = 'sst.csv'\n",
    "new_column_header = 'sst'\n",
    "#new_column_data = ['data1', 'data2', 'data3']  # Replace with your actual data\n",
    "\n",
    "# Create a new CSV file and write the header and data\n",
    "with open(csv_file_path, 'w', newline='') as csvfile:\n",
    "    writer = csv.writer(csvfile)\n",
    "    writer.writerow([new_column_header])  # Write the header row\n",
    "    writer.writerows(zip(pp))  # Write the data as a new column\n"
   ]
  },
  {
   "cell_type": "code",
   "execution_count": null,
   "id": "ea7b749f",
   "metadata": {},
   "outputs": [],
   "source": [
    "# import csv\n",
    "\n",
    "# csv_file_path = 'predictors.csv'\n",
    "# new_column_header = 'slp'\n",
    "# #new_column_data = ['data1', 'data2', 'data3']  # Replace with your actual data\n",
    "\n",
    "# # Read the existing data from the CSV file\n",
    "# existing_data = []\n",
    "# with open(csv_file_path, 'r') as csvfile:\n",
    "#     reader = csv.reader(csvfile)\n",
    "#     existing_data = list(reader)\n",
    "\n",
    "# # Modify the data by adding the new column\n",
    "# header = existing_data[0]\n",
    "# header.append(new_column_header)# Add the new column header to the header row\n",
    "# if len(pp) == len(existing_data) - 1:\n",
    "#     for i in range(1, len(pp)):\n",
    "#         existing_data[i].append(pp[i - 1])  # Add the corresponding data to each row\n",
    "\n",
    "# # Write the modified data back to the CSV file\n",
    "# with open(csv_file_path, 'w', newline='') as csvfile:\n",
    "#     writer = csv.writer(csvfile)\n",
    "#     writer.writerows(existing_data)\n"
   ]
  },
  {
   "cell_type": "code",
   "execution_count": null,
   "id": "52e428e7",
   "metadata": {},
   "outputs": [],
   "source": []
  }
 ],
 "metadata": {
  "kernelspec": {
   "display_name": "tf2.4",
   "language": "python",
   "name": "tf2.4"
  },
  "language_info": {
   "codemirror_mode": {
    "name": "ipython",
    "version": 3
   },
   "file_extension": ".py",
   "mimetype": "text/x-python",
   "name": "python",
   "nbconvert_exporter": "python",
   "pygments_lexer": "ipython3",
   "version": "3.9.0"
  }
 },
 "nbformat": 4,
 "nbformat_minor": 5
}
