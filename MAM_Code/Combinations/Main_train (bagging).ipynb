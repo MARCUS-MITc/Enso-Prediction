{
 "cells": [
  {
   "cell_type": "code",
   "execution_count": null,
   "id": "1c6e9b69",
   "metadata": {},
   "outputs": [],
   "source": [
    "import pandas as pd\n",
    "import numpy as np\n",
    "import pickle\n",
    "from sklearn.pipeline import Pipeline\n",
    "from  Auto_encoders import AutoEncoder\n",
    "from preprocessing import DataPreprocessor\n",
    "from Predictors import CorrelationAnalysis\n",
    "from Model_Training_bagging import ENSOAnalysis_br"
   ]
  },
  {
   "cell_type": "code",
   "execution_count": null,
   "id": "8b49969a",
   "metadata": {},
   "outputs": [],
   "source": [
    "class execute:\n",
    "    \n",
    "    def __init__(self, nc_file1, nc_file2, enso_file):\n",
    "        self.nc_file1 = nc_file1\n",
    "        self.nc_file2 = nc_file2\n",
    "        self.enso_file = enso_file\n",
    "        \n",
    "    def ploting_correlation(self):\n",
    "        autoencoder = AutoEncoder()\n",
    "        processor = DataPreprocessor()\n",
    "        autoencoder_input_data = processor.execute_pipeline(self.nc_file1,self.nc_file2)\n",
    "        \n",
    "        autoencoder.fit_autoencoder(autoencoder_input_data)\n",
    "        weights = autoencoder.weights\n",
    "        input_data = autoencoder.input_data\n",
    "        correlation_analyzer = CorrelationAnalysis(input_data, weights, self.enso_file )\n",
    "        top_predictions, sorted_correlation_data = correlation_analyzer.run_correlation_analysis()\n",
    "        pearson = top_predictions['top_pred_pearson']\n",
    "        kendall = top_predictions['top_pred_kendall']\n",
    "        spearman = top_predictions['top_pred_spearman']\n",
    "        mutual = top_predictions['top_pred_mutual']\n",
    "        correlations = [pearson, kendall, spearman, mutual]\n",
    "        analysis = ENSOAnalysis_br(correlations, self.enso_file)\n",
    "        analysis.execute_analysis(['mam_Avg','Mar', 'Apr','May'])\n",
    "        return analysis"
   ]
  },
  {
   "cell_type": "code",
   "execution_count": null,
   "id": "c33e4dda",
   "metadata": {
    "scrolled": true
   },
   "outputs": [],
   "source": [
    "nc_file1 = \"AIRT2023.nc\"\n",
    "nc_file2 = \"GPH200.nc\"\n",
    "\n",
    "enso_file = \"enso2023.csv\"\n",
    "\n",
    "# Create an instance of the execute class\n",
    "executor = execute(nc_file1, nc_file2, enso_file)\n",
    "\n",
    "# Call the ploting_correlation method\n",
    "analysis = executor.ploting_correlation()"
   ]
  },
  {
   "cell_type": "code",
   "execution_count": null,
   "id": "e1ceb21b",
   "metadata": {},
   "outputs": [],
   "source": [
    "with open('best_models.pkl', 'wb') as f:\n",
    "    pickle.dump(analysis.best_models, f)"
   ]
  },
  {
   "cell_type": "code",
   "execution_count": null,
   "id": "075da591",
   "metadata": {},
   "outputs": [],
   "source": [
    "with open('best_models.pkl', 'rb') as f:\n",
    "    best_models = pickle.load(f)"
   ]
  },
  {
   "cell_type": "code",
   "execution_count": null,
   "id": "08f7edb2",
   "metadata": {},
   "outputs": [],
   "source": [
    "with open('best_scalers.pkl', 'wb') as f:\n",
    "    pickle.dump(analysis.scalers, f)"
   ]
  },
  {
   "cell_type": "code",
   "execution_count": null,
   "id": "e0ea5434",
   "metadata": {},
   "outputs": [],
   "source": [
    "with open('best_scalers.pkl', 'rb') as f:\n",
    "    best_scalers = pickle.load(f)"
   ]
  }
 ],
 "metadata": {
  "kernelspec": {
   "display_name": "Python 3 (ipykernel)",
   "language": "python",
   "name": "python3"
  },
  "language_info": {
   "codemirror_mode": {
    "name": "ipython",
    "version": 3
   },
   "file_extension": ".py",
   "mimetype": "text/x-python",
   "name": "python",
   "nbconvert_exporter": "python",
   "pygments_lexer": "ipython3",
   "version": "3.11.9"
  }
 },
 "nbformat": 4,
 "nbformat_minor": 5
}
